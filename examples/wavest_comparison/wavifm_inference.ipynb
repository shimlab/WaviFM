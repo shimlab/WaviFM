{
 "cells": [
  {
   "cell_type": "code",
   "execution_count": 1,
   "metadata": {},
   "outputs": [],
   "source": [
    "# Code to enable this notebook to import from libraries\n",
    "import os\n",
    "import sys\n",
    "module_path = os.path.abspath(os.path.join('..\\..'))\n",
    "if module_path not in sys.path:\n",
    "    sys.path.append(module_path)"
   ]
  },
  {
   "cell_type": "code",
   "execution_count": 2,
   "metadata": {},
   "outputs": [],
   "source": [
    "import pandas as pd\n",
    "import matplotlib.pyplot as plt\n",
    "import numpy as np\n",
    "import matplotlib.cm as cm\n",
    "from matplotlib.colors import ListedColormap\n",
    "import seaborn as sns\n",
    "import csv\n",
    "from scripts.mockUtilities import *\n",
    "from scripts.utilities import *"
   ]
  },
  {
   "cell_type": "code",
   "execution_count": 3,
   "metadata": {},
   "outputs": [],
   "source": [
    "import pandas as pd\n",
    "from IPython.display import display, HTML\n",
    "import matplotlib.pyplot as plt\n",
    "import numpy as np\n",
    "import matplotlib.cm as cm\n",
    "from sklearn.decomposition import PCA\n",
    "from sklearn.cluster import KMeans\n",
    "import pywt\n",
    "import pywt.data\n",
    "from sklearn.cluster import SpectralClustering\n",
    "from matplotlib.colors import ListedColormap\n",
    "from scipy.sparse import csr_matrix\n",
    "from scipy.io import mmread\n",
    "from sklearn.mixture import GaussianMixture\n",
    "%matplotlib inline"
   ]
  },
  {
   "cell_type": "code",
   "execution_count": 4,
   "metadata": {},
   "outputs": [],
   "source": [
    "# Set seed for reproducibility\n",
    "np.random.seed(100)"
   ]
  },
  {
   "cell_type": "markdown",
   "metadata": {},
   "source": [
    "## Loading data"
   ]
  },
  {
   "cell_type": "code",
   "execution_count": 5,
   "metadata": {},
   "outputs": [],
   "source": [
    "# Loading data\n",
    "raws = pd.read_csv('std_raws.csv', index_col=0)\n",
    "df = raws.copy()\n",
    "grid_size = 32\n",
    "y_index, x_index = np.divmod(np.arange(grid_size * grid_size), grid_size)\n",
    "df.columns = [f'gene_indicator_{i}' for i in range(df.shape[1])]\n",
    "df.index = pd.MultiIndex.from_arrays([y_index, x_index], names=['y_index', 'x_index'])\n",
    "grid_rna = df"
   ]
  },
  {
   "cell_type": "markdown",
   "metadata": {},
   "source": [
    "## Processing data"
   ]
  },
  {
   "cell_type": "code",
   "execution_count": 6,
   "metadata": {},
   "outputs": [],
   "source": [
    "N_GENES = raws.shape[1]\n",
    "N_Y_INDICES = 32\n",
    "N_X_INDICES = N_Y_INDICES"
   ]
  },
  {
   "cell_type": "code",
   "execution_count": 7,
   "metadata": {},
   "outputs": [],
   "source": [
    "result_rna_unnormalised = grid_rna.copy()\n",
    "result_rna_unnormalised['feature'] = result_rna_unnormalised.apply(lambda row: row.tolist(), axis=1)\n",
    "result_rna_unnormalised = result_rna_unnormalised.drop(result_rna_unnormalised.columns[:-1], axis=1)\n",
    "result_rna_unnormalised = result_rna_unnormalised.reset_index()"
   ]
  },
  {
   "cell_type": "code",
   "execution_count": 8,
   "metadata": {},
   "outputs": [],
   "source": [
    "result_rna = result_rna_unnormalised.copy()\n",
    "matrix_standardized = raws.to_numpy()\n",
    "standardized_features = matrix_standardized.tolist()\n",
    "result_rna['feature'] = standardized_features\n",
    "assert np.allclose(matrix_standardized.mean(axis=0),np.array([0.0]*N_GENES),rtol=0.001)\n",
    "assert np.allclose(matrix_standardized.std(axis=0),np.array([1.0]*N_GENES),rtol=0.001)"
   ]
  },
  {
   "cell_type": "code",
   "execution_count": 9,
   "metadata": {},
   "outputs": [],
   "source": [
    "assert np.allclose(matrix_standardized.mean(axis=0),np.array([0.0]*N_GENES),rtol=0.001)\n",
    "assert np.allclose(matrix_standardized.std(axis=0),np.array([1.0]*N_GENES),rtol=0.001)"
   ]
  },
  {
   "cell_type": "code",
   "execution_count": 10,
   "metadata": {},
   "outputs": [],
   "source": [
    "N_FACTORS = 9 # M in thesis"
   ]
  },
  {
   "cell_type": "markdown",
   "metadata": {},
   "source": [
    "## Run PCA"
   ]
  },
  {
   "cell_type": "code",
   "execution_count": 11,
   "metadata": {},
   "outputs": [],
   "source": [
    "n_components = N_FACTORS\n",
    "feats = np.vstack(result_rna['feature'].to_numpy())\n",
    "pca = PCA(n_components=n_components)\n",
    "flattened_L_pca = pca.fit_transform(feats)\n",
    "F_pca = pca.components_ # F matrix, factor vs feature\n",
    "\n",
    "L_pca = [np.zeros((N_Y_INDICES, N_X_INDICES)) for _ in range(n_components)]\n",
    "for i, row in result_rna.iterrows():\n",
    "    y_idx = row['y_index']\n",
    "    x_idx = row['x_index']\n",
    "    \n",
    "    for component_index in range(n_components):\n",
    "        L_pca[component_index][y_idx, x_idx] = flattened_L_pca[i, component_index]\n",
    "\n",
    "LF_pca = pca.inverse_transform(flattened_L_pca).transpose()"
   ]
  },
  {
   "cell_type": "markdown",
   "metadata": {},
   "source": [
    "## Run WaviFM"
   ]
  },
  {
   "cell_type": "code",
   "execution_count": 12,
   "metadata": {},
   "outputs": [],
   "source": [
    "from IPython.display import display, HTML\n",
    "import matplotlib.cm as cm\n",
    "from matplotlib.colors import ListedColormap\n",
    "from sklearn.mixture import GaussianMixture\n",
    "from scripts.cavi_plot_utilities import *\n",
    "from scripts.cavi import *\n",
    "import copy\n",
    "from scripts.cavi_utilities import *\n",
    "from scripts.cavi_evaluation import *\n",
    "from scripts.utilities import *\n",
    "from scripts.run_wavifm import *\n",
    "\n",
    "%matplotlib inline"
   ]
  },
  {
   "cell_type": "code",
   "execution_count": 13,
   "metadata": {},
   "outputs": [],
   "source": [
    "N_LENGTH_SCALES = 3 # D in thesis\n",
    "n_spots = N_X_INDICES*N_Y_INDICES"
   ]
  },
  {
   "cell_type": "code",
   "execution_count": 14,
   "metadata": {},
   "outputs": [
    {
     "name": "stdout",
     "output_type": "stream",
     "text": [
      "Initialisation 1:\n",
      "\tELBO = -429264.1018705442\n",
      "\t#Iterations = 167\n",
      "\tTime taken (s) = 128.62983441352844\n",
      "Initialisation 2:\n",
      "\tELBO = -421105.83209152013\n",
      "\t#Iterations = 50\n",
      "\tTime taken (s) = 40.12436509132385\n",
      "Initialisation 3:\n",
      "\tELBO = -421030.0976647729\n",
      "\t#Iterations = 107\n",
      "\tTime taken (s) = 84.61430740356445\n",
      "Initialisation 4:\n",
      "\tELBO = -421006.38653507724\n",
      "\t#Iterations = 41\n",
      "\tTime taken (s) = 32.96919131278992\n",
      "Initialisation 5:\n",
      "\tELBO = -421156.76573171944\n",
      "\t#Iterations = 67\n",
      "\tTime taken (s) = 53.268216133117676\n",
      "Initialisation 6:\n",
      "\tELBO = -420799.03267785226\n",
      "\t#Iterations = 61\n",
      "\tTime taken (s) = 47.78884291648865\n",
      "Initialisation 7:\n",
      "\tELBO = -421185.7022203619\n",
      "\t#Iterations = 49\n",
      "\tTime taken (s) = 38.864450216293335\n",
      "Initialisation 8:\n",
      "\tELBO = -442898.8812193268\n",
      "\t#Iterations = 143\n",
      "\tTime taken (s) = 106.66841530799866\n",
      "Initialisation 9:\n",
      "\tELBO = -421301.7044612562\n",
      "\t#Iterations = 48\n",
      "\tTime taken (s) = 38.080350160598755\n",
      "Initialisation 10:\n",
      "\tELBO = -421009.3611918543\n",
      "\t#Iterations = 118\n",
      "\tTime taken (s) = 94.49440002441406\n",
      "Initialisation 6 has maximal ELBO and is returned\n"
     ]
    }
   ],
   "source": [
    "results = run_wavifm(\n",
    "    result_rna=result_rna,\n",
    "    n_length_scales=N_LENGTH_SCALES,\n",
    "    n_factors=N_FACTORS,\n",
    "    n_x_indices=N_X_INDICES,\n",
    "    n_y_indices=N_Y_INDICES,\n",
    "    max_iterations=1000,\n",
    "    relative_elbo_threshold=0.0001,\n",
    "    n_init=10\n",
    ")\n",
    "param_results = results[\"parameters\"]"
   ]
  },
  {
   "cell_type": "markdown",
   "metadata": {},
   "source": [
    "## Processing results"
   ]
  },
  {
   "cell_type": "code",
   "execution_count": 15,
   "metadata": {},
   "outputs": [],
   "source": [
    "L_means = variational_approx_posterior_mean_L(param_results)\n",
    "F_means = variational_approx_posterior_mean_F(param_results)\n",
    "pi_means = variational_approx_posterior_mean_pi(param_results)\n",
    "eta_means = variational_approx_posterior_mean_eta(param_results)"
   ]
  },
  {
   "cell_type": "markdown",
   "metadata": {},
   "source": [
    "Get factor activities in spatial domain"
   ]
  },
  {
   "cell_type": "code",
   "execution_count": 16,
   "metadata": {},
   "outputs": [],
   "source": [
    "def square_flattened_matrix(flattened_matrix):\n",
    "    flattened_matrix_arr = np.array(flattened_matrix)\n",
    "    n = int(np.sqrt(len(flattened_matrix_arr)))\n",
    "    square_matrix = flattened_matrix_arr.reshape((n, n))\n",
    "    return square_matrix"
   ]
  },
  {
   "cell_type": "code",
   "execution_count": 17,
   "metadata": {},
   "outputs": [],
   "source": [
    "L_means_formatted = copy.deepcopy(L_means)\n",
    "n_factors, n_features = np.array(param_results[\"mu_F\"]).shape\n",
    "mean_values = copy.deepcopy(param_results[\"mu_L\"])\n",
    "\n",
    "for l in range(n_factors):\n",
    "    for i in range(len(param_results[\"mu_L\"][l])):\n",
    "        for j in range(len(param_results[\"mu_L\"][l][i])):\n",
    "            L_means_formatted[l][i][j] = square_flattened_matrix(L_means[l][i][j])\n",
    "\n",
    "for l in range(n_factors):\n",
    "    L_means_formatted[l][0] = square_flattened_matrix(L_means[l][0][0])"
   ]
  },
  {
   "cell_type": "code",
   "execution_count": 18,
   "metadata": {},
   "outputs": [
    {
     "name": "stdout",
     "output_type": "stream",
     "text": [
      "factor 0\n",
      "factor 1\n",
      "factor 2\n",
      "factor 3\n",
      "factor 4\n",
      "factor 5\n",
      "factor 6\n",
      "factor 7\n",
      "factor 8\n"
     ]
    }
   ],
   "source": [
    "# Inverse Wavelet Transform on the factor loadings\n",
    "idwt_L_means = [None]*n_factors\n",
    "\n",
    "for l in range(n_factors):\n",
    "    print(f\"factor {l}\")\n",
    "    idwt_L_means[l] = pywt.waverec2(L_means_formatted[l], 'haar')"
   ]
  },
  {
   "cell_type": "markdown",
   "metadata": {},
   "source": [
    "## Exporting results"
   ]
  },
  {
   "cell_type": "code",
   "execution_count": 19,
   "metadata": {},
   "outputs": [],
   "source": [
    "# Export inferred factor activities\n",
    "np.savez('idwt_L_meansWaviFM.npz', *idwt_L_means)\n",
    "np.savez('F_meansWaviFM.npz', *F_means)"
   ]
  }
 ],
 "metadata": {
  "kernelspec": {
   "display_name": "py378",
   "language": "python",
   "name": "python3"
  },
  "language_info": {
   "codemirror_mode": {
    "name": "ipython",
    "version": 3
   },
   "file_extension": ".py",
   "mimetype": "text/x-python",
   "name": "python",
   "nbconvert_exporter": "python",
   "pygments_lexer": "ipython3",
   "version": "3.7.12"
  }
 },
 "nbformat": 4,
 "nbformat_minor": 2
}
