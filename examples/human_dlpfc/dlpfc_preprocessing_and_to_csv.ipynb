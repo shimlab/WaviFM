{
 "cells": [
  {
   "cell_type": "code",
   "execution_count": 1,
   "metadata": {},
   "outputs": [],
   "source": [
    "# Code to enable this notebook to import from libraries\n",
    "import os\n",
    "import sys\n",
    "module_path = os.path.abspath(os.path.join('..\\..'))\n",
    "if module_path not in sys.path:\n",
    "    sys.path.append(module_path)"
   ]
  },
  {
   "cell_type": "code",
   "execution_count": 2,
   "metadata": {},
   "outputs": [],
   "source": [
    "import pandas as pd\n",
    "import matplotlib.pyplot as plt\n",
    "import numpy as np\n",
    "import matplotlib.cm as cm\n",
    "from matplotlib.colors import ListedColormap\n",
    "import seaborn as sns\n",
    "import csv\n",
    "from scripts.mockUtilities import *\n",
    "from scripts.utilities import *"
   ]
  },
  {
   "cell_type": "code",
   "execution_count": 3,
   "metadata": {},
   "outputs": [],
   "source": [
    "import pandas as pd\n",
    "from IPython.display import display, HTML\n",
    "import matplotlib.pyplot as plt\n",
    "import numpy as np\n",
    "import matplotlib.cm as cm\n",
    "from sklearn.decomposition import PCA\n",
    "from sklearn.cluster import KMeans\n",
    "import pywt\n",
    "import pywt.data\n",
    "from sklearn.cluster import SpectralClustering\n",
    "from matplotlib.colors import ListedColormap\n",
    "from scipy.sparse import csr_matrix\n",
    "from scipy.io import mmread\n",
    "from sklearn.mixture import GaussianMixture\n",
    "%matplotlib inline"
   ]
  },
  {
   "cell_type": "code",
   "execution_count": 4,
   "metadata": {},
   "outputs": [],
   "source": [
    "# Set seed for reproducibility\n",
    "np.random.seed(999)"
   ]
  },
  {
   "cell_type": "markdown",
   "metadata": {},
   "source": [
    "## Loading Data"
   ]
  },
  {
   "cell_type": "code",
   "execution_count": 5,
   "metadata": {},
   "outputs": [],
   "source": [
    "counts = mmread(r'..\\..\\data\\10x_visium_LIBD\\sample9\\counts_hvg.mtx')\n",
    "counts_sct = mmread(r'..\\..\\data\\10x_visium_LIBD\\sample9\\sct_transformed_counts.mtx')\n",
    "\n",
    "coords = pd.read_csv(r'..\\..\\data\\10x_visium_LIBD\\sample9\\coords.csv')\n",
    "meta_data = pd.read_csv(r'..\\..\\data\\10x_visium_LIBD\\sample9\\meta.csv')"
   ]
  },
  {
   "cell_type": "code",
   "execution_count": 6,
   "metadata": {},
   "outputs": [],
   "source": [
    "coords = coords.rename(columns={'x_coord': 'x', 'y_coord': 'y'})\n",
    "\n",
    "# counts data\n",
    "cell_feature_ori = counts\n",
    "cell_feature_ori = (cell_feature_ori.toarray())\n",
    "meta_data[\"feature_ori\"] =  [cell_feature_ori[:,x] for x in range(meta_data.shape[0])] \n",
    "\n",
    "# sctransformed counts data\n",
    "cell_feature_sct = counts_sct\n",
    "cell_feature_sct = (cell_feature_sct.toarray())\n",
    "meta_data[\"feature_sct\"] =  [cell_feature_sct[:,x] for x in range(meta_data.shape[0])] \n",
    "\n",
    "meta_data = meta_data[['barcode', 'feature_sct', 'feature_ori', 'spatialLIBD']]\n",
    "rna = pd.concat([coords, meta_data], axis=1)\n",
    "rna['original index'] = rna.index\n",
    "rna = rna.dropna()\n",
    "rna['spatialLIBDCode'] = rna['spatialLIBD'].astype('category').cat.codes\n",
    "rna = rna.reset_index(drop=True)"
   ]
  },
  {
   "cell_type": "markdown",
   "metadata": {},
   "source": [
    "## Processing data\n",
    "\n",
    "We will be using the feature_sct data (sctranformed gene expression)"
   ]
  },
  {
   "cell_type": "code",
   "execution_count": 7,
   "metadata": {},
   "outputs": [],
   "source": [
    "# Set the settings for the data\n",
    "N_GENES = len(rna[\"feature_sct\"][0])\n",
    "\n",
    "# Set the settings for the gridding of the data\n",
    "MIN_X = 130\n",
    "MAX_X = 500\n",
    "MIN_Y = -510\n",
    "MAX_Y = -100\n",
    "N_X_INDICES = 2**6\n",
    "N_Y_INDICES = N_X_INDICES\n",
    "N_CELLS = N_X_INDICES * N_Y_INDICES\n",
    "\n",
    "# Calculate the size of each cell in the grid\n",
    "cell_size_x = (MAX_X - MIN_X) / N_X_INDICES\n",
    "cell_size_y = (MAX_Y - MIN_Y) / N_Y_INDICES\n",
    "\n",
    "# Assign each (x, y) point to a grid cell\n",
    "rna['grid_x'] = ((rna['x'] - MIN_X) // cell_size_x).astype(int)\n",
    "rna['grid_y'] = ((rna['y'] - MIN_Y) // cell_size_y).astype(int)\n",
    "\n",
    "# Group by grid cells (grid_x, grid_y) and calculate the average feature vector for each cell\n",
    "grouped = rna.groupby(['grid_y', 'grid_x'])['feature_sct'].apply(lambda x: np.mean(np.vstack(x), axis=0))\n",
    "fill_feature_vector = np.zeros(N_GENES)\n",
    "full_index = pd.MultiIndex.from_product([range(N_Y_INDICES), range(N_X_INDICES)], names=['y_index', 'x_index'])\n",
    "grouped_reindexed = grouped.reindex(full_index, fill_value=fill_feature_vector)\n",
    "grid_rna = pd.DataFrame(grouped_reindexed.tolist(), index=grouped_reindexed.index)\n",
    "\n",
    "# Rename the columns to gene_indicator_n where n is the element index of the feature vector\n",
    "grid_rna.columns = [f'gene_indicator_{i}' for i in range(grid_rna.shape[1])]\n",
    "\n",
    "# Reset index to have y_index and x_index as named columns\n",
    "grid_rna.index.names = ['y_index', 'x_index']"
   ]
  },
  {
   "cell_type": "code",
   "execution_count": 8,
   "metadata": {},
   "outputs": [],
   "source": [
    "result_rna_unnormalised = grid_rna.copy()\n",
    "result_rna_unnormalised['feature'] = result_rna_unnormalised.apply(lambda row: row.tolist(), axis=1)\n",
    "result_rna_unnormalised = result_rna_unnormalised.drop(result_rna_unnormalised.columns[:-1], axis=1)\n",
    "result_rna_unnormalised = result_rna_unnormalised.reset_index()"
   ]
  },
  {
   "cell_type": "code",
   "execution_count": 9,
   "metadata": {},
   "outputs": [],
   "source": [
    "# Perform standardization \n",
    "from sklearn.preprocessing import StandardScaler\n",
    "result_rna = result_rna_unnormalised.copy()\n",
    "matrix = result_rna_unnormalised['feature'].tolist()\n",
    "matrix = np.array(matrix)\n",
    "scaler = StandardScaler()\n",
    "matrix_standardized = scaler.fit_transform(matrix)\n",
    "standardized_features = matrix_standardized.tolist()\n",
    "result_rna['feature'] = standardized_features"
   ]
  },
  {
   "cell_type": "code",
   "execution_count": 10,
   "metadata": {},
   "outputs": [],
   "source": [
    "assert np.allclose(matrix_standardized.mean(axis=0),np.array([0.0]*N_GENES))\n",
    "assert np.allclose(matrix_standardized.std(axis=0),np.array([1.0]*N_GENES))"
   ]
  },
  {
   "cell_type": "code",
   "execution_count": 11,
   "metadata": {},
   "outputs": [],
   "source": [
    "# Export standardised data\n",
    "pd.DataFrame(matrix_standardized).to_csv('visium.csv', index=False)"
   ]
  }
 ],
 "metadata": {
  "kernelspec": {
   "display_name": "'py3.7.8'",
   "language": "python",
   "name": "python3"
  },
  "language_info": {
   "codemirror_mode": {
    "name": "ipython",
    "version": 3
   },
   "file_extension": ".py",
   "mimetype": "text/x-python",
   "name": "python",
   "nbconvert_exporter": "python",
   "pygments_lexer": "ipython3",
   "version": "3.7.12"
  }
 },
 "nbformat": 4,
 "nbformat_minor": 2
}
